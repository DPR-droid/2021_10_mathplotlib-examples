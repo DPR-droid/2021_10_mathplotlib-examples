{
 "cells": [
  {
   "cell_type": "markdown",
   "id": "cf320f45",
   "metadata": {},
   "source": [
    "# The numpy Random Package\n",
    "\n",
    "[Official Documentation](https://numpy.org/doc/stable/reference/random/index.html)\n",
    "\n",
    "***"
   ]
  },
  {
   "cell_type": "code",
   "execution_count": 1,
   "id": "57b1d7ae",
   "metadata": {},
   "outputs": [],
   "source": [
    "import numpy as np\n",
    "\n",
    "import matplotlib.pyplot as plt"
   ]
  },
  {
   "cell_type": "markdown",
   "id": "a9cd9247",
   "metadata": {},
   "source": [
    "Seeding is important in a random number generator [1]."
   ]
  },
  {
   "cell_type": "markdown",
   "id": "4fe33862",
   "metadata": {},
   "source": [
    "# numpy.random.normal\n",
    "\n",
    "https://numpy.org/doc/stable/reference/random/generated/numpy.random.normal.html"
   ]
  },
  {
   "cell_type": "code",
   "execution_count": 2,
   "id": "fa6a06ad",
   "metadata": {},
   "outputs": [],
   "source": [
    "mu, sigma = 0, 0.1 # mean and standard deviation\n",
    "s = np.random.normal(mu, sigma, 1000)"
   ]
  },
  {
   "cell_type": "code",
   "execution_count": 3,
   "id": "4e398b51",
   "metadata": {},
   "outputs": [
    {
     "data": {
      "text/plain": [
       "0.002803553672117026"
      ]
     },
     "execution_count": 3,
     "metadata": {},
     "output_type": "execute_result"
    }
   ],
   "source": [
    "abs(mu - np.mean(s))"
   ]
  },
  {
   "cell_type": "code",
   "execution_count": 4,
   "id": "2c68d3a3",
   "metadata": {},
   "outputs": [
    {
     "data": {
      "text/plain": [
       "0.0016324181600974735"
      ]
     },
     "execution_count": 4,
     "metadata": {},
     "output_type": "execute_result"
    }
   ],
   "source": [
    "abs(sigma - np.std(s, ddof=1))"
   ]
  },
  {
   "cell_type": "code",
   "execution_count": 5,
   "id": "f4ed0aaf",
   "metadata": {},
   "outputs": [
    {
     "data": {
      "text/plain": [
       "[<matplotlib.lines.Line2D at 0x29f6c9f0190>]"
      ]
     },
     "execution_count": 5,
     "metadata": {},
     "output_type": "execute_result"
    },
    {
     "data": {
      "image/png": "[encoded data removed]",
      "text/plain": [
       "<Figure size 432x288 with 1 Axes>"
      ]
     },
     "metadata": {
      "needs_background": "light"
     },
     "output_type": "display_data"
    }
   ],
   "source": [
    "count, bins, ignored = plt.hist(s, 30, density=True)\n",
    "plt.plot(bins, 1/(sigma * np.sqrt(2 * np.pi)) * np.exp( - (bins - mu)**2 / (2 * sigma**2) ),linewidth=2, color='r')"
   ]
  },
  {
   "cell_type": "code",
   "execution_count": 7,
   "id": "5123a4f9",
   "metadata": {
    "scrolled": true
   },
   "outputs": [
    {
     "data": {
      "text/plain": [
       "[<matplotlib.lines.Line2D at 0x29f6cbdcd90>]"
      ]
     },
     "execution_count": 7,
     "metadata": {},
     "output_type": "execute_result"
    },
    {
     "data": {
      "image/png": "[encoded data removed]",
      "text/plain": [
       "<Figure size 432x288 with 1 Axes>"
      ]
     },
     "metadata": {
      "needs_background": "light"
     },
     "output_type": "display_data"
    }
   ],
   "source": [
    "count, bins, ignored = plt.hist(s, 30, density=True)\n",
    "f = 1/(sigma*np.sqrt(2 * np.pi))*np.exp(-(bins - mu)**2/(2 * sigma**2))\n",
    "plt.plot(bins,f,linewidth=2, color='r')"
   ]
  },
  {
   "cell_type": "code",
   "execution_count": null,
   "id": "9e0a86d1",
   "metadata": {},
   "outputs": [],
   "source": []
  },
  {
   "cell_type": "code",
   "execution_count": null,
   "id": "c7b73354",
   "metadata": {},
   "outputs": [],
   "source": []
  },
  {
   "cell_type": "code",
   "execution_count": null,
   "id": "27bfd3e9",
   "metadata": {},
   "outputs": [],
   "source": []
  },
  {
   "cell_type": "code",
   "execution_count": null,
   "id": "fdc83cb4",
   "metadata": {},
   "outputs": [],
   "source": []
  },
  {
   "cell_type": "code",
   "execution_count": null,
   "id": "aed719dd",
   "metadata": {},
   "outputs": [],
   "source": []
  },
  {
   "cell_type": "code",
   "execution_count": null,
   "id": "14a047fc",
   "metadata": {},
   "outputs": [],
   "source": []
  },
  {
   "cell_type": "markdown",
   "id": "300115c1",
   "metadata": {},
   "source": [
    "# References\n",
    "\n",
    "1. https://realpython.com/python-random/\n",
    "2. https://www.datacamp.com/community/tutorials/numpy-random \n"
   ]
  },
  {
   "cell_type": "markdown",
   "id": "3bacfc1a",
   "metadata": {},
   "source": [
    "***\n",
    "\n",
    "# End"
   ]
  },
  {
   "cell_type": "code",
   "execution_count": null,
   "id": "af491049",
   "metadata": {},
   "outputs": [],
   "source": []
  }
 ],
 "metadata": {
  "kernelspec": {
   "display_name": "Python 3",
   "language": "python",
   "name": "python3"
  },
  "language_info": {
   "codemirror_mode": {
    "name": "ipython",
    "version": 3
   },
   "file_extension": ".py",
   "mimetype": "text/x-python",
   "name": "python",
   "nbconvert_exporter": "python",
   "pygments_lexer": "ipython3",
   "version": "3.8.8"
  }
 },
 "nbformat": 4,
 "nbformat_minor": 5
}
