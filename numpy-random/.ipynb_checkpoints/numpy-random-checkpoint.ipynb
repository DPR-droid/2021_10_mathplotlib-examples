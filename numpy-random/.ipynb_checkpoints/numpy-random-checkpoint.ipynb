{
 "cells": [
  {
   "cell_type": "markdown",
   "id": "454a5e2c",
   "metadata": {},
   "source": [
    "# The numpy.random package"
   ]
  },
  {
   "cell_type": "code",
   "execution_count": 1,
   "id": "af325a34",
   "metadata": {},
   "outputs": [
    {
     "data": {
      "text/plain": [
       "array([1, 0, 0, 0, 1, 1, 1, 1, 0, 1], dtype=int64)"
      ]
     },
     "execution_count": 1,
     "metadata": {},
     "output_type": "execute_result"
    }
   ],
   "source": [
    "import numpy as np\n",
    "rng = np.random.default_rng()\n",
    "rng.integers(2, size=10)"
   ]
  },
  {
   "cell_type": "code",
   "execution_count": 2,
   "id": "b42bb20a",
   "metadata": {},
   "outputs": [
    {
     "data": {
      "text/plain": [
       "array([0, 0, 0, 0, 0, 0, 0, 0, 0, 0], dtype=int64)"
      ]
     },
     "execution_count": 2,
     "metadata": {},
     "output_type": "execute_result"
    }
   ],
   "source": [
    "rng.integers(1, size=10)"
   ]
  },
  {
   "cell_type": "code",
   "execution_count": 3,
   "id": "d86bb567",
   "metadata": {},
   "outputs": [
    {
     "data": {
      "text/plain": [
       "array([[2, 1, 2, 4],\n",
       "       [4, 1, 0, 1]], dtype=int64)"
      ]
     },
     "execution_count": 3,
     "metadata": {},
     "output_type": "execute_result"
    }
   ],
   "source": [
    "rng.integers(5, size=(2, 4))"
   ]
  },
  {
   "cell_type": "code",
   "execution_count": 4,
   "id": "420bc3ae",
   "metadata": {},
   "outputs": [
    {
     "data": {
      "text/plain": [
       "array([[2, 2, 2, 2, 2],\n",
       "       [1, 3, 3, 3, 2],\n",
       "       [1, 0, 2, 3, 0],\n",
       "       [3, 3, 2, 0, 4],\n",
       "       [2, 2, 4, 1, 4],\n",
       "       [0, 0, 1, 2, 4],\n",
       "       [0, 3, 3, 1, 2],\n",
       "       [2, 1, 1, 3, 0],\n",
       "       [3, 0, 2, 2, 3],\n",
       "       [2, 1, 1, 4, 2]], dtype=int64)"
      ]
     },
     "execution_count": 4,
     "metadata": {},
     "output_type": "execute_result"
    }
   ],
   "source": [
    "rng.integers(5, size=(10, 5))"
   ]
  },
  {
   "cell_type": "code",
   "execution_count": 5,
   "id": "7873877a",
   "metadata": {},
   "outputs": [
    {
     "data": {
      "text/plain": [
       "array([4, 0, 3, 0, 1, 1, 2, 2, 1, 3], dtype=int64)"
      ]
     },
     "execution_count": 5,
     "metadata": {},
     "output_type": "execute_result"
    }
   ],
   "source": [
    "rng.integers(5, size=(10))"
   ]
  },
  {
   "cell_type": "code",
   "execution_count": 6,
   "id": "ae42826e",
   "metadata": {},
   "outputs": [
    {
     "data": {
      "text/plain": [
       "array([[[[0, 4, 4],\n",
       "         [3, 2, 1]],\n",
       "\n",
       "        [[4, 0, 3],\n",
       "         [0, 2, 0]],\n",
       "\n",
       "        [[2, 0, 3],\n",
       "         [2, 0, 0]],\n",
       "\n",
       "        [[1, 0, 2],\n",
       "         [4, 3, 4]],\n",
       "\n",
       "        [[1, 4, 0],\n",
       "         [0, 4, 4]]],\n",
       "\n",
       "\n",
       "       [[[0, 3, 4],\n",
       "         [0, 0, 2]],\n",
       "\n",
       "        [[1, 4, 0],\n",
       "         [1, 0, 3]],\n",
       "\n",
       "        [[0, 3, 2],\n",
       "         [4, 2, 2]],\n",
       "\n",
       "        [[4, 4, 4],\n",
       "         [0, 0, 1]],\n",
       "\n",
       "        [[1, 4, 0],\n",
       "         [4, 1, 1]]],\n",
       "\n",
       "\n",
       "       [[[4, 4, 3],\n",
       "         [3, 1, 0]],\n",
       "\n",
       "        [[3, 2, 2],\n",
       "         [2, 1, 2]],\n",
       "\n",
       "        [[2, 1, 2],\n",
       "         [0, 2, 1]],\n",
       "\n",
       "        [[2, 2, 1],\n",
       "         [4, 4, 3]],\n",
       "\n",
       "        [[3, 0, 0],\n",
       "         [1, 4, 2]]],\n",
       "\n",
       "\n",
       "       [[[1, 3, 3],\n",
       "         [0, 0, 2]],\n",
       "\n",
       "        [[3, 0, 3],\n",
       "         [3, 3, 0]],\n",
       "\n",
       "        [[2, 2, 0],\n",
       "         [1, 2, 1]],\n",
       "\n",
       "        [[4, 1, 1],\n",
       "         [0, 0, 1]],\n",
       "\n",
       "        [[1, 4, 4],\n",
       "         [3, 3, 2]]],\n",
       "\n",
       "\n",
       "       [[[1, 2, 3],\n",
       "         [0, 4, 3]],\n",
       "\n",
       "        [[1, 4, 0],\n",
       "         [0, 4, 2]],\n",
       "\n",
       "        [[4, 0, 3],\n",
       "         [3, 2, 4]],\n",
       "\n",
       "        [[2, 1, 1],\n",
       "         [2, 4, 4]],\n",
       "\n",
       "        [[0, 1, 2],\n",
       "         [2, 2, 2]]],\n",
       "\n",
       "\n",
       "       [[[3, 4, 0],\n",
       "         [0, 1, 4]],\n",
       "\n",
       "        [[2, 4, 3],\n",
       "         [0, 0, 3]],\n",
       "\n",
       "        [[2, 2, 0],\n",
       "         [1, 3, 4]],\n",
       "\n",
       "        [[1, 0, 2],\n",
       "         [4, 2, 4]],\n",
       "\n",
       "        [[2, 2, 0],\n",
       "         [0, 0, 4]]],\n",
       "\n",
       "\n",
       "       [[[2, 1, 2],\n",
       "         [4, 3, 1]],\n",
       "\n",
       "        [[4, 2, 2],\n",
       "         [0, 1, 1]],\n",
       "\n",
       "        [[3, 2, 3],\n",
       "         [1, 3, 4]],\n",
       "\n",
       "        [[2, 1, 4],\n",
       "         [4, 4, 3]],\n",
       "\n",
       "        [[2, 0, 2],\n",
       "         [3, 0, 1]]],\n",
       "\n",
       "\n",
       "       [[[0, 1, 2],\n",
       "         [1, 0, 4]],\n",
       "\n",
       "        [[4, 2, 1],\n",
       "         [2, 1, 2]],\n",
       "\n",
       "        [[2, 1, 4],\n",
       "         [3, 1, 0]],\n",
       "\n",
       "        [[4, 2, 2],\n",
       "         [0, 4, 1]],\n",
       "\n",
       "        [[3, 1, 0],\n",
       "         [2, 4, 3]]],\n",
       "\n",
       "\n",
       "       [[[1, 3, 4],\n",
       "         [1, 4, 4]],\n",
       "\n",
       "        [[3, 4, 0],\n",
       "         [0, 2, 0]],\n",
       "\n",
       "        [[0, 3, 0],\n",
       "         [0, 4, 4]],\n",
       "\n",
       "        [[3, 1, 4],\n",
       "         [0, 1, 2]],\n",
       "\n",
       "        [[4, 4, 2],\n",
       "         [0, 2, 2]]],\n",
       "\n",
       "\n",
       "       [[[3, 0, 4],\n",
       "         [1, 3, 2]],\n",
       "\n",
       "        [[3, 0, 2],\n",
       "         [0, 2, 1]],\n",
       "\n",
       "        [[1, 4, 0],\n",
       "         [1, 1, 1]],\n",
       "\n",
       "        [[2, 3, 3],\n",
       "         [2, 3, 1]],\n",
       "\n",
       "        [[2, 3, 0],\n",
       "         [1, 3, 1]]]], dtype=int64)"
      ]
     },
     "execution_count": 6,
     "metadata": {},
     "output_type": "execute_result"
    }
   ],
   "source": [
    "rng.integers(5, size=(10, 5, 2, 3))"
   ]
  },
  {
   "cell_type": "code",
   "execution_count": 7,
   "id": "6e993b75",
   "metadata": {
    "scrolled": true
   },
   "outputs": [
    {
     "data": {
      "text/plain": [
       "9419"
      ]
     },
     "execution_count": 7,
     "metadata": {},
     "output_type": "execute_result"
    }
   ],
   "source": [
    "rng.integers(10000)"
   ]
  },
  {
   "cell_type": "code",
   "execution_count": 8,
   "id": "b162f545",
   "metadata": {},
   "outputs": [
    {
     "data": {
      "text/plain": [
       "array([68, 66, 70, ..., 61,  5, 90], dtype=int64)"
      ]
     },
     "execution_count": 8,
     "metadata": {},
     "output_type": "execute_result"
    }
   ],
   "source": [
    "x = rng.integers(100, size=10000)\n",
    "x"
   ]
  },
  {
   "cell_type": "code",
   "execution_count": 9,
   "id": "1673952e",
   "metadata": {},
   "outputs": [
    {
     "data": {
      "text/plain": [
       "(array([ 979.,  991.,  993., 1008., 1012.,  977., 1002., 1017.,  996.,\n",
       "        1025.]),\n",
       " array([ 0. ,  9.9, 19.8, 29.7, 39.6, 49.5, 59.4, 69.3, 79.2, 89.1, 99. ]),\n",
       " <BarContainer object of 10 artists>)"
      ]
     },
     "execution_count": 9,
     "metadata": {},
     "output_type": "execute_result"
    },
    {
     "data": {
      "image/png": "[encoded data removed]",
      "text/plain": [
       "<Figure size 432x288 with 1 Axes>"
      ]
     },
     "metadata": {
      "needs_background": "light"
     },
     "output_type": "display_data"
    }
   ],
   "source": [
    "import matplotlib.pyplot as plt\n",
    "plt.hist(x)"
   ]
  },
  {
   "cell_type": "code",
   "execution_count": 10,
   "id": "5008bc2e",
   "metadata": {},
   "outputs": [
    {
     "data": {
      "text/plain": [
       "(array([1000172., 1000977.,  999684.,  999329., 1001532.,  998630.,\n",
       "        1001098.,  999260., 1000978.,  998340.]),\n",
       " array([ 0. ,  9.9, 19.8, 29.7, 39.6, 49.5, 59.4, 69.3, 79.2, 89.1, 99. ]),\n",
       " <BarContainer object of 10 artists>)"
      ]
     },
     "execution_count": 10,
     "metadata": {},
     "output_type": "execute_result"
    },
    {
     "data": {
      "image/png": "[encoded data removed]",
      "text/plain": [
       "<Figure size 432x288 with 1 Axes>"
      ]
     },
     "metadata": {
      "needs_background": "light"
     },
     "output_type": "display_data"
    }
   ],
   "source": [
    "x = rng.integers(100, size=10000000)\n",
    "x\n",
    "%matplotlib inline\n",
    "import matplotlib.pyplot as plt\n",
    "plt.hist(x)"
   ]
  },
  {
   "cell_type": "code",
   "execution_count": 11,
   "id": "9bd4f081",
   "metadata": {},
   "outputs": [
    {
     "data": {
      "text/plain": [
       "array([2, 1, 1], dtype=int64)"
      ]
     },
     "execution_count": 11,
     "metadata": {},
     "output_type": "execute_result"
    }
   ],
   "source": [
    "rng.integers(1, [3, 5, 10])"
   ]
  },
  {
   "cell_type": "code",
   "execution_count": 12,
   "id": "0d76d01d",
   "metadata": {},
   "outputs": [
    {
     "data": {
      "text/plain": [
       "array([2, 7, 7], dtype=int64)"
      ]
     },
     "execution_count": 12,
     "metadata": {},
     "output_type": "execute_result"
    }
   ],
   "source": [
    "rng.integers([1, 5, 7], 10)"
   ]
  },
  {
   "cell_type": "code",
   "execution_count": 14,
   "id": "06abcd6f",
   "metadata": {},
   "outputs": [
    {
     "data": {
      "text/plain": [
       "array([[ 6,  7,  7,  9],\n",
       "       [ 8, 12, 13, 19]], dtype=uint8)"
      ]
     },
     "execution_count": 14,
     "metadata": {},
     "output_type": "execute_result"
    }
   ],
   "source": [
    "rng.integers([1, 3, 5, 7], [[10], [20]], dtype=np.uint8)"
   ]
  },
  {
   "cell_type": "code",
   "execution_count": 18,
   "id": "47a1a3df",
   "metadata": {},
   "outputs": [
    {
     "data": {
      "text/plain": [
       "array([-7.27737328e-01, -6.55330512e-01, -8.25325046e-01, -4.34091009e-01,\n",
       "       -7.12081057e-01, -4.98796999e-01, -1.86065544e-01, -3.26065227e-01,\n",
       "       -2.95979209e-01, -6.88277955e-02, -8.57225685e-01, -6.13366461e-01,\n",
       "       -9.69268841e-01, -2.51954496e-02, -5.66430301e-01, -6.26188417e-01,\n",
       "       -2.94869031e-01, -5.90296802e-01, -7.99526093e-01, -6.97567213e-01,\n",
       "       -5.83734519e-01, -2.89520788e-01, -7.17945594e-01, -9.22290651e-01,\n",
       "       -5.13236992e-01, -5.63227314e-01, -2.70906429e-01, -6.33919194e-01,\n",
       "       -4.34150486e-01, -1.70750727e-01, -5.03531565e-01, -5.64669529e-01,\n",
       "       -6.40511880e-01, -5.74787865e-01, -7.50265743e-01, -7.81339234e-01,\n",
       "       -8.30218129e-01, -3.73676360e-01, -8.67463188e-01, -4.66922494e-01,\n",
       "       -4.33949088e-01, -6.62754171e-01, -4.41092416e-01, -6.62919454e-01,\n",
       "       -4.26273522e-01, -1.11859075e-01, -2.30781892e-01, -8.42994954e-01,\n",
       "       -2.27781971e-01, -4.09197244e-01, -6.44634540e-01, -3.48560728e-01,\n",
       "       -3.04648792e-01, -4.73561158e-01, -4.03719269e-01, -4.00314281e-01,\n",
       "       -4.61884483e-01, -9.03325193e-01, -5.72475703e-01, -1.83316102e-01,\n",
       "       -5.44955155e-01, -2.40473464e-01, -1.09732170e-01, -2.89362010e-01,\n",
       "       -9.33029731e-02, -1.28891674e-01, -8.19298460e-01, -6.01528301e-01,\n",
       "       -2.12089157e-01, -8.52387913e-01, -8.95626711e-01, -9.78370121e-01,\n",
       "       -8.37058062e-01, -9.38122440e-01, -8.94561550e-01, -3.36935457e-01,\n",
       "       -2.91134597e-01, -5.83139262e-01, -8.72398249e-01, -4.50153014e-01,\n",
       "       -9.68212727e-01, -7.72096496e-01, -6.71565953e-01, -2.42640549e-01,\n",
       "       -5.28165063e-01, -8.03663462e-01, -5.92200943e-01, -8.23873176e-02,\n",
       "       -1.82624599e-01, -3.80683017e-01, -9.56051009e-01, -5.29872338e-01,\n",
       "       -7.81903804e-01, -2.39758468e-01, -7.28125962e-01, -2.96386634e-01,\n",
       "       -9.32455444e-01, -5.72789668e-01, -9.34739597e-01, -5.59840956e-01,\n",
       "       -1.70659929e-01, -7.98914254e-01, -1.74364414e-01, -4.68583392e-01,\n",
       "       -3.66948716e-01, -4.75060679e-01, -5.14500076e-01, -1.71268770e-01,\n",
       "       -6.04383032e-01, -2.62031477e-01, -7.56199245e-02, -2.21642542e-01,\n",
       "       -8.28047705e-02, -1.84131654e-01, -1.59272518e-01, -1.66763414e-01,\n",
       "       -4.82643057e-01, -2.81441980e-01, -1.83336037e-01, -8.36049857e-01,\n",
       "       -2.88893920e-02, -4.51958505e-01, -2.82156011e-01, -8.59503354e-01,\n",
       "       -6.51701789e-01, -6.31102572e-01, -5.30512279e-02, -8.83090460e-01,\n",
       "       -4.45601240e-01, -7.72909767e-01, -2.60596229e-01, -6.12833972e-01,\n",
       "       -6.82973856e-01, -8.51003082e-01, -9.82070168e-01, -6.57410488e-01,\n",
       "       -1.43446982e-01, -8.89839454e-01, -8.81932066e-01, -3.89782219e-01,\n",
       "       -7.67437875e-01, -5.12722054e-01, -6.06783537e-01, -9.30904217e-01,\n",
       "       -2.73289531e-01, -9.00299751e-01, -7.20590942e-01, -2.83193034e-01,\n",
       "       -9.96568423e-01, -9.92897233e-01, -8.52924640e-01, -6.18979480e-01,\n",
       "       -2.12273242e-01, -6.45441436e-01, -5.59401044e-01, -6.86514949e-01,\n",
       "       -6.43597582e-01, -3.43985396e-01, -3.05948730e-01, -3.98697388e-01,\n",
       "       -2.42536659e-04, -7.51397978e-01, -5.85967471e-01, -4.21451406e-01,\n",
       "       -2.61354504e-01, -7.91186365e-01, -4.29861612e-01, -5.18409981e-01,\n",
       "       -5.74051980e-01, -2.72924009e-01, -9.33109765e-01, -1.38483121e-01,\n",
       "       -5.82501275e-01, -7.89000778e-01, -1.80857319e-01, -7.68891836e-01,\n",
       "       -8.35232207e-01, -6.39871012e-01, -8.86715744e-02, -5.80818173e-01,\n",
       "       -2.25528449e-01, -6.20178721e-01, -9.34380357e-01, -5.39927996e-01,\n",
       "       -2.38537910e-01, -2.54727759e-01, -3.31647997e-01, -2.97537036e-01,\n",
       "       -9.49411485e-01, -9.72009824e-01, -6.10898382e-01, -2.02892534e-01,\n",
       "       -2.18717730e-01, -6.87997744e-01, -4.49087687e-01, -5.61512709e-01,\n",
       "       -6.44799578e-01, -9.22145922e-01, -3.52420752e-01, -7.56560759e-02,\n",
       "       -7.56028797e-01, -8.02593997e-01, -2.23801426e-01, -7.08544808e-01,\n",
       "       -6.43896639e-01, -8.18721959e-01, -3.44757002e-01, -8.38984719e-01,\n",
       "       -4.34712451e-01, -5.02940130e-01, -7.06120094e-01, -4.34603562e-01,\n",
       "       -7.05389943e-01, -8.21287697e-01, -6.95337809e-01, -7.41083815e-01,\n",
       "       -1.01129358e-01, -5.44193535e-02, -6.36248096e-01, -5.60030244e-01,\n",
       "       -6.43159643e-01, -6.09500011e-01, -4.96120028e-01, -3.40927055e-01,\n",
       "       -1.53839059e-01, -9.09483624e-02, -4.02477464e-01, -7.03167997e-01,\n",
       "       -8.44639078e-01, -1.27693615e-01, -1.47850877e-01, -6.64196489e-01,\n",
       "       -1.67809273e-01, -4.04008993e-01, -7.35156799e-01, -8.59899957e-04,\n",
       "       -4.74320966e-01, -1.44233441e-01, -4.03651471e-01, -1.34629520e-01,\n",
       "       -6.86440599e-01, -8.02867444e-01, -9.90007577e-01, -6.50496750e-01,\n",
       "       -6.13856423e-01, -6.95539227e-01, -8.39186685e-01, -3.24040390e-02,\n",
       "       -7.34432213e-01, -1.39336002e-01, -2.67184711e-01, -1.69984010e-01,\n",
       "       -6.17225058e-01, -9.52791835e-01, -3.80532178e-01, -4.16651216e-01,\n",
       "       -7.74579037e-01, -2.43689629e-01, -4.44689808e-02, -3.40671311e-02,\n",
       "       -2.99514512e-01, -1.75427165e-01, -9.15946937e-01, -6.31306268e-01,\n",
       "       -1.05244280e-01, -5.70434561e-01, -3.76524786e-02, -8.16892489e-01,\n",
       "       -5.78281668e-01, -6.22203298e-01, -6.89053812e-01, -8.81886256e-01,\n",
       "       -5.60385458e-01, -2.10501303e-01, -7.46474176e-01, -8.45254995e-01,\n",
       "       -1.67951074e-01, -2.30743373e-01, -3.53258159e-01, -8.33140599e-01,\n",
       "       -5.60725498e-02, -2.97812542e-01, -5.58797402e-02, -8.81729920e-01,\n",
       "       -6.51384739e-01, -6.57156305e-01, -6.92038345e-01, -4.83836952e-01,\n",
       "       -9.70577233e-01, -8.97877243e-01, -3.41629736e-01, -2.68977414e-01,\n",
       "       -1.22258275e-01, -7.27768779e-01, -9.89914568e-01, -5.29093537e-01,\n",
       "       -3.32584932e-01, -4.78844152e-01, -2.61882686e-01, -5.99849904e-01,\n",
       "       -9.79491365e-01, -6.89614604e-01, -9.71733097e-01, -3.54816014e-01,\n",
       "       -6.26820316e-01, -7.91797844e-01, -9.02915493e-01, -7.32235743e-01,\n",
       "       -8.13411575e-01, -7.95781676e-01, -3.87367025e-02, -9.34094641e-01,\n",
       "       -5.04914938e-01, -8.73201621e-01, -1.43523103e-01, -8.96223469e-01,\n",
       "       -8.10295480e-01, -4.61684452e-01, -3.77795692e-01, -5.51408041e-01,\n",
       "       -4.28443753e-01, -9.37081639e-02, -2.45838413e-01, -4.66540267e-01,\n",
       "       -3.83655861e-01, -6.33182190e-01, -9.64074185e-01, -1.58541197e-01,\n",
       "       -2.98432968e-01, -9.48343613e-01, -8.09055137e-02, -7.48431361e-01,\n",
       "       -5.65964475e-01, -7.82317879e-01, -3.69588567e-01, -5.48374124e-01,\n",
       "       -4.89906053e-03, -4.17747177e-01, -1.36724379e-01, -1.60665485e-01,\n",
       "       -6.37105217e-01, -8.74609148e-02, -9.97692704e-01, -8.94643943e-01,\n",
       "       -5.81199620e-01, -2.67543116e-01, -7.94387404e-01, -4.66904598e-01,\n",
       "       -9.27963154e-01, -8.09439143e-03, -3.58375008e-02, -8.49186400e-01,\n",
       "       -6.07134669e-01, -8.85498526e-01, -3.91784961e-01, -8.17751815e-01,\n",
       "       -3.40252964e-01, -9.89752896e-01, -5.04543950e-01, -9.67566402e-01,\n",
       "       -4.92058970e-01, -1.50600750e-01, -7.91657995e-01, -7.93041905e-01,\n",
       "       -8.81772772e-01, -2.52470797e-01, -4.54338515e-01, -7.52463752e-01,\n",
       "       -3.86920225e-01, -1.58901166e-01, -4.82109669e-01, -1.55784956e-01,\n",
       "       -5.97211751e-01, -2.77748599e-01, -8.42315417e-02, -2.79821253e-01,\n",
       "       -3.66950956e-02, -4.85952406e-01, -9.83233449e-01, -5.05956320e-01,\n",
       "       -8.76277793e-01, -3.61032818e-01, -9.20634824e-01, -3.12467233e-01,\n",
       "       -5.21723909e-01, -5.99141297e-01, -2.20636025e-01, -6.91493354e-01,\n",
       "       -3.42682494e-01, -9.29105274e-01, -8.33796303e-01, -5.27126333e-01,\n",
       "       -4.81603193e-01, -4.93302060e-01, -9.82278809e-01, -1.51075005e-01,\n",
       "       -9.44047837e-01, -9.53965552e-03, -4.72261397e-01, -6.07669800e-01,\n",
       "       -4.62058777e-01, -2.79221443e-01, -4.64345983e-02, -7.32265822e-01,\n",
       "       -9.59361408e-01, -8.83013031e-01, -8.04425322e-01, -2.81203186e-01,\n",
       "       -7.12816911e-01, -1.89835662e-01, -4.59284212e-01, -3.69866061e-02,\n",
       "       -5.30161516e-01, -3.78773934e-01, -8.70715417e-01, -1.26098021e-01,\n",
       "       -1.39082030e-01, -8.43596031e-01, -4.92041121e-01, -2.30378608e-01,\n",
       "       -6.41408488e-02, -5.53381494e-01, -7.49890795e-01, -6.87189827e-02,\n",
       "       -4.82308694e-01, -9.00223229e-01, -4.88700546e-01, -5.61365360e-01,\n",
       "       -8.89595686e-01, -5.43649344e-01, -8.73903532e-01, -2.17578821e-01,\n",
       "       -9.96175977e-02, -4.59928849e-01, -2.10186489e-01, -2.75916750e-01,\n",
       "       -6.08622155e-01, -5.47165812e-01, -3.74142631e-02, -7.89065721e-01,\n",
       "       -2.24391604e-01, -6.40153917e-01, -5.84445754e-01, -4.16357669e-01,\n",
       "       -6.38449504e-02, -5.58290496e-01, -5.22598317e-01, -5.78826274e-01,\n",
       "       -7.68299132e-02, -9.81229411e-01, -3.84157966e-01, -5.76687861e-02,\n",
       "       -3.87981609e-01, -6.16328764e-01, -1.00345776e-01, -1.88377815e-01,\n",
       "       -2.89912764e-01, -6.12187966e-01, -5.08681141e-05, -4.87350697e-01,\n",
       "       -6.02745956e-01, -9.06456879e-01, -4.07176943e-02, -9.49749785e-02,\n",
       "       -9.23816664e-01, -3.14384548e-01, -5.49827827e-01, -8.08899720e-02,\n",
       "       -2.26837385e-01, -1.53054867e-01, -1.61119239e-02, -1.69363817e-01,\n",
       "       -4.07556062e-01, -2.74788285e-01, -3.92122210e-01, -1.24498527e-01,\n",
       "       -7.71120561e-01, -8.65477715e-01, -8.93210211e-01, -2.17801048e-01,\n",
       "       -9.46070864e-01, -4.93315922e-01, -5.99885092e-01, -3.66139775e-01,\n",
       "       -9.56557081e-01, -8.38362827e-01, -5.24681552e-01, -4.47312954e-01,\n",
       "       -3.36032109e-01, -2.17910917e-01, -8.67932425e-01, -8.72103260e-02,\n",
       "       -8.58779683e-01, -1.43142736e-01, -7.88574227e-01, -7.25233976e-01,\n",
       "       -4.41902396e-01, -7.49655361e-01, -1.22831201e-01, -6.08101741e-01,\n",
       "       -8.48636560e-01, -3.08383955e-01, -2.20052423e-01, -5.48723715e-01,\n",
       "       -9.84989742e-01, -5.74714894e-01, -6.88605989e-01, -4.78935120e-01,\n",
       "       -6.67789115e-01, -5.53413181e-01, -9.33095496e-01, -7.66214425e-01,\n",
       "       -1.22123828e-02, -7.84180830e-01, -8.29342848e-01, -1.43866078e-01,\n",
       "       -4.28906524e-01, -5.08834480e-01, -9.19589651e-01, -4.13769618e-01,\n",
       "       -1.02474411e-01, -6.54228041e-01, -2.61808471e-03, -9.88200888e-01,\n",
       "       -9.12323293e-01, -4.83163362e-01, -8.89121449e-01, -3.17129277e-01,\n",
       "       -1.80788196e-01, -1.95270016e-01, -5.65982440e-01, -7.81022562e-01,\n",
       "       -3.12439308e-01, -5.46322969e-01, -6.86700473e-01, -5.86035489e-01,\n",
       "       -6.51378751e-01, -6.96691185e-02, -6.72459453e-01, -8.81565038e-01,\n",
       "       -9.98278992e-01, -6.30968918e-01, -3.52703169e-01, -8.73623537e-02,\n",
       "       -1.68435008e-01, -8.80040690e-01, -3.69855378e-02, -6.35472404e-01,\n",
       "       -5.06143157e-01, -1.45496321e-01, -2.40804069e-02, -7.46582580e-01,\n",
       "       -6.73748329e-01, -8.84655988e-01, -4.22887428e-01, -9.18075020e-02,\n",
       "       -6.81059182e-01, -7.56882994e-01, -6.46695043e-01, -4.59268559e-01,\n",
       "       -5.16839678e-01, -4.60919177e-01, -5.16034464e-01, -4.88565363e-01,\n",
       "       -5.44418123e-01, -2.01375423e-01, -5.97091712e-01, -5.69965781e-01,\n",
       "       -7.36526035e-01, -9.71690557e-01, -6.10456243e-01, -5.67972971e-01,\n",
       "       -3.17671543e-01, -6.19635984e-01, -4.96123879e-01, -8.17546322e-01,\n",
       "       -4.73986013e-01, -7.82223404e-01, -4.22105886e-01, -5.97985370e-01,\n",
       "       -5.92416790e-01, -6.07128106e-01, -1.37240503e-01, -1.34510735e-01,\n",
       "       -4.55328905e-01, -1.10119767e-01, -5.90840800e-01, -6.80379624e-01,\n",
       "       -5.88768725e-01, -4.40055878e-01, -1.88436727e-01, -8.55108128e-01,\n",
       "       -6.97272576e-01, -2.00545785e-01, -5.91461348e-01, -4.23493058e-02,\n",
       "       -4.64920053e-01, -6.31935399e-01, -8.49035693e-01, -9.52519875e-01,\n",
       "       -8.47553773e-01, -6.57256913e-01, -3.22899412e-01, -4.65168192e-01,\n",
       "       -2.26127561e-01, -9.02570531e-01, -6.93484761e-01, -9.05489461e-01,\n",
       "       -8.08948824e-01, -9.31323981e-01, -8.82405079e-01, -7.26113393e-01,\n",
       "       -6.74925104e-02, -6.10239976e-01, -7.39179164e-01, -9.01508076e-02,\n",
       "       -5.28256415e-02, -9.87848268e-01, -1.98953388e-01, -2.54159625e-01,\n",
       "       -4.99453186e-01, -4.74908101e-01, -2.68010745e-02, -1.21011379e-01,\n",
       "       -1.25508075e-02, -2.36837790e-01, -3.25353709e-01, -5.74674624e-01,\n",
       "       -1.33081010e-01, -6.84712559e-01, -4.59532891e-01, -3.49261689e-01,\n",
       "       -6.38632673e-01, -2.37413789e-01, -3.19694986e-01, -3.28922904e-01,\n",
       "       -4.38520000e-02, -4.78821030e-01, -2.35140720e-01, -7.45764778e-02,\n",
       "       -3.67127100e-01, -2.13567582e-01, -9.50621617e-01, -8.96442266e-01,\n",
       "       -8.58502990e-01, -3.56980477e-01, -7.42605753e-02, -7.37772094e-01,\n",
       "       -1.71831946e-01, -4.87053543e-01, -5.45448765e-01, -5.15423876e-01,\n",
       "       -5.37163128e-01, -5.72041302e-01, -5.46364854e-01, -8.80516939e-01,\n",
       "       -3.41862082e-01, -3.44864252e-01, -1.93480357e-02, -7.37092825e-01,\n",
       "       -9.06627912e-01, -5.82459981e-01, -4.95192806e-01, -5.99020422e-01,\n",
       "       -5.11514996e-01, -5.30086673e-02, -2.86980687e-01, -8.01777615e-01,\n",
       "       -6.18028895e-01, -7.19231044e-02, -7.64091923e-01, -2.21299178e-02,\n",
       "       -8.98357095e-01, -2.70854370e-01, -3.02117796e-01, -4.30668418e-01,\n",
       "       -7.49158607e-01, -8.78273903e-01, -8.45268981e-01, -3.67373223e-01,\n",
       "       -5.49510307e-01, -6.95624410e-01, -9.02139821e-01, -9.83742470e-01,\n",
       "       -7.40100209e-01, -7.78329492e-01, -1.79246765e-01, -9.04960029e-01,\n",
       "       -8.25575557e-01, -4.50757732e-01, -9.90978874e-01, -7.71419590e-01,\n",
       "       -8.18765762e-02, -3.74825900e-01, -1.50861284e-02, -5.68750991e-01,\n",
       "       -6.95691429e-01, -9.77843758e-03, -8.73918351e-02, -7.46822981e-01,\n",
       "       -2.77878279e-01, -6.25482042e-01, -4.49819143e-01, -4.21614538e-01,\n",
       "       -6.79743154e-01, -4.51369251e-01, -1.46148112e-01, -1.93138644e-01,\n",
       "       -2.98443532e-01, -6.34848092e-01, -1.13788715e-01, -6.42222121e-01,\n",
       "       -4.37507125e-01, -4.69813245e-01, -6.20220911e-03, -5.61995638e-01,\n",
       "       -3.29755010e-01, -4.22118088e-01, -3.46800633e-01, -4.41964205e-01,\n",
       "       -7.13679581e-01, -6.09524266e-01, -5.77764936e-01, -4.33605173e-01,\n",
       "       -8.56576834e-01, -9.30147199e-01, -8.12470283e-01, -4.02249031e-01,\n",
       "       -9.45172286e-01, -2.43516134e-01, -1.24784036e-01, -6.51585487e-01,\n",
       "       -5.41055025e-01, -7.44373586e-01, -5.29204552e-01, -3.86011708e-01,\n",
       "       -6.03371678e-01, -8.70901284e-01, -2.04618203e-01, -8.34935635e-01,\n",
       "       -9.16219750e-01, -6.87246805e-01, -4.14470264e-01, -4.41564989e-01,\n",
       "       -2.13391251e-02, -2.57888041e-01, -6.58287467e-01, -3.01782411e-02,\n",
       "       -3.51605567e-02, -9.65998613e-01, -5.66099598e-01, -1.84006495e-01,\n",
       "       -8.60258890e-01, -8.85666085e-01, -5.21065436e-01, -3.50391944e-01,\n",
       "       -2.17556929e-01, -1.00681186e-01, -6.58996580e-02, -3.08946222e-03,\n",
       "       -6.73765610e-01, -5.19088000e-01, -3.01708313e-01, -2.47938308e-01,\n",
       "       -1.16062380e-01, -7.46025978e-01, -4.53745311e-01, -3.98932635e-01,\n",
       "       -4.04275321e-01, -8.17439315e-01, -6.92708913e-01, -5.70869426e-01,\n",
       "       -8.02653813e-01, -9.98637733e-01, -1.64416230e-01, -2.27430158e-01,\n",
       "       -4.27059251e-01, -5.34446847e-01, -6.08816984e-01, -5.95825301e-01,\n",
       "       -5.05212562e-01, -4.16711076e-01, -8.94451679e-01, -9.12344221e-01,\n",
       "       -3.96935931e-02, -5.16833667e-01, -6.44617576e-01, -9.57060755e-01,\n",
       "       -5.20666275e-01, -1.46994735e-01, -3.54099319e-01, -2.31853555e-01,\n",
       "       -3.74297467e-01, -9.26042633e-01, -3.28189012e-01, -6.76787383e-02,\n",
       "       -1.14382992e-01, -9.96269639e-01, -8.84202777e-01, -3.58961282e-01,\n",
       "       -9.28507753e-01, -2.72630397e-01, -7.46320235e-01, -4.94366800e-01,\n",
       "       -7.02820282e-01, -7.98993816e-01, -9.68401130e-01, -5.81267171e-01,\n",
       "       -4.37688937e-01, -8.82432878e-01, -7.62267437e-01, -7.64781142e-01,\n",
       "       -6.63571841e-01, -5.23384517e-01, -3.63058623e-01, -4.17015850e-01,\n",
       "       -8.21522681e-01, -8.09711723e-01, -5.48016084e-01, -1.20766068e-01,\n",
       "       -3.78396516e-01, -9.83250667e-01, -8.52092458e-01, -1.48531369e-01,\n",
       "       -6.44003364e-02, -9.06291409e-01, -8.79911682e-01, -5.91818564e-01,\n",
       "       -6.76526504e-01, -2.72729279e-02, -8.92843863e-01, -7.98596152e-01,\n",
       "       -4.66508242e-01, -9.95011354e-01, -4.39261717e-02, -2.46146674e-01,\n",
       "       -4.43006285e-01, -1.68942038e-01, -7.40562202e-01, -3.05304065e-01,\n",
       "       -1.78935873e-01, -1.29229889e-01, -8.78234140e-01, -7.64490339e-01,\n",
       "       -4.28233169e-01, -5.70056800e-01, -3.56001968e-01, -8.90672704e-01,\n",
       "       -4.76954504e-01, -1.27131202e-01, -5.32917096e-01, -9.96075724e-01,\n",
       "       -1.22755459e-01, -2.01363049e-01, -3.53100355e-02, -3.08496244e-01,\n",
       "       -4.76213845e-01, -7.75928400e-01, -7.30034898e-01, -3.66446400e-01,\n",
       "       -1.71663657e-01, -9.39771257e-01, -6.51129275e-01, -8.96817916e-01,\n",
       "       -2.91235056e-02, -7.83625240e-01, -6.21477884e-01, -4.71428805e-01,\n",
       "       -3.18703303e-01, -6.77416576e-01, -3.59709725e-01, -5.85064235e-01,\n",
       "       -5.16980534e-01, -1.91792008e-01, -9.83630694e-01, -6.77364296e-01,\n",
       "       -9.74851009e-01, -3.01270963e-01, -3.61434884e-01, -5.29888641e-01,\n",
       "       -4.74950781e-01, -1.91782514e-01, -9.52916722e-01, -5.39290523e-02,\n",
       "       -1.90376517e-01, -1.92391587e-01, -8.53062717e-01, -2.75931549e-01,\n",
       "       -1.47811136e-01, -9.27200729e-01, -5.55654894e-01, -7.35539717e-01,\n",
       "       -3.11434651e-01, -9.41102937e-01, -8.90562201e-02, -6.11082845e-01,\n",
       "       -5.51288773e-01, -9.66590481e-01, -4.59563700e-01, -5.31542249e-01,\n",
       "       -1.32213573e-01, -6.60794114e-02, -2.49108776e-01, -7.93097488e-01,\n",
       "       -5.68759374e-02, -8.15350354e-01, -3.37486736e-01, -1.81519780e-01,\n",
       "       -4.49937082e-01, -1.77531448e-01, -9.47694414e-01, -4.25378903e-01,\n",
       "       -9.72810325e-01, -9.56962236e-01, -7.95477872e-01, -5.65688922e-01,\n",
       "       -8.62405885e-01, -7.85946507e-01, -2.64425894e-01, -2.86479959e-01,\n",
       "       -8.77781428e-01, -9.27305741e-01, -2.49158794e-01, -8.45192332e-01,\n",
       "       -4.30740577e-01, -7.23458732e-01, -7.07050182e-01, -2.01127609e-01,\n",
       "       -6.24082524e-01, -3.61858017e-01, -2.71297919e-02, -1.61214156e-02,\n",
       "       -5.42776698e-01, -8.72544549e-01, -3.38116809e-01, -4.21865032e-01,\n",
       "       -2.09780409e-01, -5.64138379e-01, -7.01015949e-01, -9.84761693e-01,\n",
       "       -9.46100672e-01, -7.32101157e-02, -4.96263970e-01, -9.61240059e-01,\n",
       "       -9.03327481e-01, -8.83473961e-01, -8.58366439e-01, -6.37783642e-01,\n",
       "       -4.95087541e-01, -1.49544078e-01, -5.92024594e-02, -5.65971000e-02,\n",
       "       -6.38430069e-01, -5.41284015e-01, -7.61188832e-01, -8.53859249e-01,\n",
       "       -7.69213683e-01, -5.32652556e-01, -5.63460057e-01, -3.40430118e-01,\n",
       "       -6.90240236e-01, -1.46456777e-01, -2.88198109e-01, -4.63408195e-01,\n",
       "       -3.95637102e-01, -5.11706778e-01, -6.09515208e-01, -6.78673763e-01,\n",
       "       -1.93850581e-01, -5.74543686e-01, -2.95948147e-01, -4.13910691e-01,\n",
       "       -5.70100445e-02, -4.67152235e-01, -6.99926538e-01, -4.81924151e-01,\n",
       "       -2.33350497e-01, -2.82678949e-02, -3.92138492e-01, -6.21715031e-01,\n",
       "       -5.52739374e-01, -4.03214219e-01, -2.84969774e-01, -4.77659504e-01,\n",
       "       -6.59963848e-03, -4.41032151e-01, -6.42900167e-01, -6.29208491e-02,\n",
       "       -2.72198357e-01, -8.02929299e-01, -3.52912227e-01, -9.25611594e-01,\n",
       "       -3.27957073e-01, -4.90240125e-01, -6.89741710e-01, -9.45298794e-01,\n",
       "       -1.72368242e-03, -9.29831538e-01, -9.06325394e-01, -5.55134840e-01])"
      ]
     },
     "execution_count": 18,
     "metadata": {},
     "output_type": "execute_result"
    }
   ],
   "source": [
    "np.random.default_rng().uniform(-1,0,1000)"
   ]
  },
  {
   "cell_type": "code",
   "execution_count": 22,
   "id": "acfde717",
   "metadata": {},
   "outputs": [
    {
     "data": {
      "text/plain": [
       "array([-0.47225933, -0.80422537, -0.81743525, -0.52656654, -0.68387258,\n",
       "       -0.97373231, -0.33314527, -0.62232206, -0.40396623, -0.59669984])"
      ]
     },
     "execution_count": 22,
     "metadata": {},
     "output_type": "execute_result"
    }
   ],
   "source": [
    "np.random.default_rng().uniform(-1,0,10)"
   ]
  },
  {
   "cell_type": "code",
   "execution_count": 23,
   "id": "43f37edf",
   "metadata": {},
   "outputs": [
    {
     "data": {
      "text/plain": [
       "array([-9.36121478, -9.56462937, -9.63512225, -9.27075052, -9.52949381,\n",
       "       -9.85835142, -9.71688527, -9.0073536 , -9.89748895, -9.17851212])"
      ]
     },
     "execution_count": 23,
     "metadata": {},
     "output_type": "execute_result"
    }
   ],
   "source": [
    "np.random.default_rng().uniform(-10,-9,10)"
   ]
  },
  {
   "cell_type": "code",
   "execution_count": 24,
   "id": "d89a5381",
   "metadata": {},
   "outputs": [
    {
     "data": {
      "text/plain": [
       "array([9.91903685, 9.74386859, 9.29123025, 9.12675335, 9.79615325,\n",
       "       9.20009791, 9.27514579, 9.16780109, 9.79960621, 9.77945608])"
      ]
     },
     "execution_count": 24,
     "metadata": {},
     "output_type": "execute_result"
    }
   ],
   "source": [
    "np.random.default_rng().uniform(10,9,10)"
   ]
  },
  {
   "cell_type": "code",
   "execution_count": 26,
   "id": "4056bacc",
   "metadata": {},
   "outputs": [
    {
     "data": {
      "text/plain": [
       "(array([1020.,  973., 1016.,  968.,  958.,  994., 1023., 1016.,  991.,\n",
       "        1041.]),\n",
       " array([3.07697817e-02, 1.00001203e+02, 1.99971636e+02, 2.99942069e+02,\n",
       "        3.99912502e+02, 4.99882935e+02, 5.99853368e+02, 6.99823801e+02,\n",
       "        7.99794235e+02, 8.99764668e+02, 9.99735101e+02]),\n",
       " <BarContainer object of 10 artists>)"
      ]
     },
     "execution_count": 26,
     "metadata": {},
     "output_type": "execute_result"
    },
    {
     "data": {
      "image/png": "[encoded data removed]",
      "text/plain": [
       "<Figure size 432x288 with 1 Axes>"
      ]
     },
     "metadata": {
      "needs_background": "light"
     },
     "output_type": "display_data"
    }
   ],
   "source": [
    "x = np.random.uniform(0, 1000, 10000)\n",
    "plt.hist(x)"
   ]
  },
  {
   "cell_type": "code",
   "execution_count": 31,
   "id": "cfa98ee5",
   "metadata": {},
   "outputs": [
    {
     "data": {
      "text/plain": [
       "array([-1.16285052e-01,  2.57846336e-02, -2.50096794e-02,  1.24518585e-01,\n",
       "       -2.54457440e-02,  4.01789887e-02, -5.22441875e-02,  1.18383687e-02,\n",
       "        1.00714827e-01,  7.35957632e-02, -6.88321146e-02, -8.57091206e-02,\n",
       "        1.19034069e-01, -1.57694475e-01, -1.43357488e-01,  2.78297923e-02,\n",
       "       -2.71469369e-02,  5.95766879e-03, -9.15775444e-04, -9.78813851e-02,\n",
       "        4.09890769e-02, -8.64526129e-02,  9.85954435e-02, -1.41297942e-01,\n",
       "        1.40258618e-02,  1.78513766e-02,  7.64244484e-02,  9.80022123e-02,\n",
       "        1.16555682e-02, -4.51570551e-02, -3.80875628e-02, -5.56803182e-02,\n",
       "       -2.23395784e-01,  5.05897455e-02,  1.14200625e-01,  8.57770338e-02,\n",
       "       -6.16350659e-02,  8.74681356e-02, -7.75218683e-02,  1.13300751e-01,\n",
       "       -1.48581547e-01, -3.36271422e-02,  7.06256780e-02,  4.20409461e-03,\n",
       "        6.84053075e-03, -5.23563498e-02,  4.75585399e-03, -1.32437585e-01,\n",
       "       -3.23853610e-02,  1.79069858e-01,  8.34817042e-02, -4.68604964e-02,\n",
       "       -1.60767608e-02,  8.28244371e-02,  9.52700477e-02,  7.41057111e-02,\n",
       "        1.89233342e-01, -7.44437041e-02,  1.20010460e-02,  5.14507888e-02,\n",
       "        9.52509419e-04,  1.86325879e-01,  1.73812501e-02, -2.37990588e-03,\n",
       "       -1.01606202e-02,  8.65340443e-02,  9.36790533e-02,  1.09167252e-02,\n",
       "       -4.73905166e-02, -1.76271239e-01,  5.10778169e-02, -2.16777692e-01,\n",
       "       -7.46538708e-02, -4.93429262e-02,  1.37466122e-01,  1.13460340e-01,\n",
       "        1.69388359e-01,  1.70421533e-01, -9.73500178e-02,  4.64987851e-02,\n",
       "        2.79025114e-01,  8.32847706e-02,  9.72198469e-02,  1.43687011e-01,\n",
       "       -5.60560276e-02,  2.48428710e-01, -1.79552913e-02,  1.10770506e-01,\n",
       "        7.23913825e-02, -6.52414118e-02, -5.64527992e-02, -2.31805720e-01,\n",
       "       -5.24990971e-02, -4.95200213e-02,  1.87064581e-02, -3.00819345e-02,\n",
       "       -9.70147605e-02,  8.64173286e-02, -6.51609802e-02, -7.55637191e-04,\n",
       "       -1.05024634e-01,  1.01664929e-01, -1.34220406e-01, -2.29056616e-02,\n",
       "       -4.60233920e-02,  8.28021636e-02, -9.93643669e-02,  2.95583356e-02,\n",
       "        3.65110166e-02, -5.05076880e-02,  3.94289348e-02,  2.45810253e-02,\n",
       "        3.68585755e-02,  3.57026541e-02, -5.01108890e-02,  1.17953899e-01,\n",
       "       -7.92089771e-02, -8.54049900e-02, -8.50684835e-02,  7.45058701e-02,\n",
       "       -1.05847650e-01,  1.10766257e-02, -7.99322878e-02,  5.07152991e-02,\n",
       "       -6.61978427e-03,  5.25202378e-02,  1.63132840e-01, -2.87539390e-02,\n",
       "       -6.29140472e-02,  6.49197092e-02,  3.34842591e-01, -1.40865165e-01,\n",
       "        1.89881229e-01,  1.63977526e-01,  7.52418314e-02, -1.04206107e-01,\n",
       "        1.24632193e-02, -1.18856272e-01, -1.41142287e-01,  7.17576854e-02,\n",
       "       -1.20884464e-02,  7.08128629e-02,  2.11769732e-01, -1.65141035e-01,\n",
       "       -4.92148520e-02, -2.18929823e-01,  7.64301164e-02,  7.68250895e-02,\n",
       "        1.05732318e-01, -3.50200164e-02, -1.50944539e-01,  1.87137558e-01,\n",
       "        3.93475815e-02,  5.73840941e-02, -5.86874323e-03,  4.33360876e-02,\n",
       "        1.21741155e-01, -7.62327361e-02,  1.28006186e-01, -7.28457545e-02,\n",
       "        6.96203055e-03, -1.23522235e-01,  2.85226547e-02, -1.32855305e-01,\n",
       "       -1.96958818e-01,  2.05776690e-01, -3.78033386e-02, -5.11256260e-02,\n",
       "       -8.77012695e-02, -7.02600771e-02, -3.36353068e-02,  1.36310328e-01,\n",
       "        4.08511574e-02, -1.00547796e-05,  3.49043774e-02,  8.54436577e-02,\n",
       "        9.21960430e-02, -2.26979378e-01,  4.30930998e-02, -1.58076156e-01,\n",
       "       -6.04175787e-02,  2.13307728e-01,  2.01729070e-02, -5.04183385e-02,\n",
       "        1.95509221e-01, -1.97849587e-01,  9.11558211e-02, -4.24472762e-02,\n",
       "       -2.51513929e-02, -1.81426687e-02, -5.20622944e-02,  2.70079291e-02,\n",
       "       -6.47300519e-03, -3.87973879e-02,  1.00716432e-01,  2.74607495e-02,\n",
       "        9.64567904e-02, -9.71348486e-02,  1.74676102e-01,  1.60756226e-02,\n",
       "        3.55564874e-02,  1.16377100e-01, -8.02697517e-02,  4.14262714e-02,\n",
       "       -7.54568529e-02, -1.68786079e-02, -4.96792173e-02,  1.45206922e-01,\n",
       "       -1.47543333e-02, -6.94094682e-02,  4.34751515e-02, -2.20740506e-02,\n",
       "        5.21044298e-02, -7.54344525e-02,  2.07119670e-01, -1.14538712e-01,\n",
       "       -9.06101625e-02, -1.89347670e-01,  5.11384785e-02,  1.34074392e-01,\n",
       "       -1.09182543e-02, -6.18621881e-02, -1.54897475e-01, -3.65502088e-02,\n",
       "       -6.47612099e-02,  1.70255285e-01,  3.13677617e-02, -5.13727679e-02,\n",
       "       -6.31021011e-02, -2.14494775e-02,  1.97113317e-01,  1.40865714e-01,\n",
       "        2.71024483e-02, -8.06058683e-02,  2.97874434e-02,  8.64053632e-02,\n",
       "       -5.48997812e-02, -1.01296707e-01, -5.62137555e-02,  1.46049303e-01,\n",
       "        8.01385365e-03, -9.30707164e-02,  5.78643472e-02, -6.76839076e-02,\n",
       "        1.33812988e-01,  9.37987279e-02,  1.00514583e-01,  1.62319669e-02,\n",
       "        1.90570644e-02,  4.19869281e-03,  1.13241664e-01,  5.10749920e-02,\n",
       "       -1.48136959e-01,  2.34698889e-01, -9.09122350e-02, -8.44132494e-03,\n",
       "        1.88965467e-01,  2.70498759e-02,  1.12091594e-02,  5.45174957e-02,\n",
       "       -2.04331565e-02, -1.97376320e-02, -1.32817664e-01, -6.76637168e-02,\n",
       "        5.04566564e-02, -6.66634276e-02, -2.58588440e-02,  1.29127062e-02,\n",
       "        4.13274199e-02, -5.76790168e-04, -3.19529952e-02,  3.80358227e-02,\n",
       "       -5.83968792e-02, -2.18446386e-01,  3.62170608e-02,  7.20467815e-02,\n",
       "       -1.61290692e-02,  6.16337958e-03,  6.61617073e-04, -5.57414069e-02,\n",
       "        2.49247147e-02,  5.60489168e-02,  1.45615944e-01,  2.06689514e-01,\n",
       "        1.23356200e-01,  6.35189730e-02, -1.16206694e-01, -1.40964980e-01,\n",
       "        7.77627873e-02,  4.31017994e-02, -4.77428384e-03,  1.74248864e-01,\n",
       "       -3.20273305e-02,  7.18749769e-02,  2.73076937e-01,  1.88863574e-02,\n",
       "        2.44989875e-02,  1.20634098e-01,  3.70350633e-02,  1.45939294e-01,\n",
       "       -1.34863828e-02, -3.63481936e-02,  9.92428348e-02,  2.16024744e-01,\n",
       "        4.70957068e-02, -1.66965123e-01, -1.88299458e-01, -5.29011587e-02,\n",
       "       -8.66059275e-02, -3.48889738e-02, -2.96811286e-02, -1.76587165e-01,\n",
       "        5.77625751e-02, -3.41184902e-02,  1.47761065e-01,  5.44492070e-02,\n",
       "        3.00386013e-01,  6.14545579e-02, -2.80872166e-03, -2.98521145e-02,\n",
       "        4.52622785e-03,  1.27582421e-01, -3.27271541e-02,  1.36118821e-01,\n",
       "       -9.58850992e-02,  1.35556668e-01,  6.75928027e-02, -7.96187764e-02,\n",
       "       -1.17814874e-01, -5.72359784e-02,  1.07354796e-02, -5.89689980e-02,\n",
       "       -2.62384566e-02,  6.66518593e-02,  8.56847974e-02,  2.55222462e-01,\n",
       "        2.49488195e-02, -1.22904700e-01,  4.06537440e-02,  2.18487667e-01,\n",
       "        1.53011123e-01,  1.68613018e-02, -1.43788410e-01, -4.39123478e-02,\n",
       "        9.58586062e-02, -1.50536830e-01, -9.23057376e-02,  1.94606296e-01,\n",
       "        3.40263712e-02, -9.09314333e-02, -9.96242991e-02, -1.22217582e-01,\n",
       "        2.40423348e-02, -1.05087600e-01, -7.74186870e-02,  2.01032973e-02,\n",
       "       -1.92679613e-01, -3.94743849e-02,  7.98708703e-02,  9.94340590e-02,\n",
       "        1.38950423e-02,  3.19593151e-02, -1.11751479e-01, -1.96974011e-02,\n",
       "        2.88553169e-02,  8.96610020e-03,  4.92579358e-02, -3.33470335e-02,\n",
       "        6.29932297e-02,  1.54038930e-02,  3.28521517e-02, -1.86349555e-01,\n",
       "       -1.59902040e-01, -1.52863675e-02,  4.00685732e-02,  5.71762180e-02,\n",
       "        5.78955912e-02, -1.66801391e-01,  5.04167225e-02, -4.00980911e-02,\n",
       "        1.38804872e-02, -7.18492625e-02, -1.75467272e-03, -1.18653380e-01,\n",
       "        6.80933169e-02, -5.54147247e-02,  1.05976045e-01,  8.95562229e-02,\n",
       "       -1.02569305e-01, -9.38963364e-02, -3.58969623e-02,  6.66351938e-02,\n",
       "       -1.56244064e-01, -2.23441586e-01,  6.04710126e-02, -7.40252404e-02,\n",
       "       -5.30275762e-02, -8.83796264e-02, -2.55132121e-02,  1.32521316e-01,\n",
       "       -5.65579575e-02, -5.22153202e-02, -1.49789155e-01, -8.07658727e-02,\n",
       "        6.12720051e-02,  6.69737582e-02, -1.97184258e-01, -3.88808640e-02,\n",
       "        5.30273338e-02, -1.61516528e-01, -1.23462584e-01, -1.23246001e-02,\n",
       "        1.06881055e-02,  2.18257092e-01, -9.37294276e-03, -6.52939854e-02,\n",
       "       -4.02845499e-02,  1.67252329e-01, -1.62140960e-01, -2.06326631e-02,\n",
       "       -4.19888013e-02,  4.96750743e-02,  4.90048652e-02,  7.13015184e-02,\n",
       "       -8.05140219e-02,  1.45190071e-03, -5.81581920e-02, -1.64873339e-02,\n",
       "       -1.11980563e-01, -3.38423306e-02,  1.44793881e-01, -1.91524652e-01,\n",
       "        1.81355552e-01,  1.66114326e-01, -7.88481824e-02, -6.32941092e-02,\n",
       "        4.53837784e-03, -1.98119223e-02, -1.36883883e-02,  8.74441930e-02,\n",
       "        1.76364856e-01,  5.43730347e-02, -1.01264821e-02, -1.13506839e-01,\n",
       "       -3.27839511e-01,  7.55418713e-02,  3.99234906e-02, -7.96737537e-02,\n",
       "        2.92300329e-02,  2.41688933e-02, -6.73319244e-02,  1.12484591e-01,\n",
       "       -5.36124624e-02,  7.53318010e-02, -2.10020930e-01, -6.00346669e-03,\n",
       "        9.69359337e-02, -8.06953883e-02,  7.71764968e-02, -4.63114491e-02,\n",
       "        1.29806887e-01, -3.66341654e-03, -8.81489427e-02,  1.27530088e-01,\n",
       "       -8.37001379e-02, -2.55252696e-02,  1.39606954e-02,  7.21554846e-02,\n",
       "        2.42958648e-02,  1.01906430e-01,  7.07250309e-03,  1.13650585e-01,\n",
       "       -1.07197983e-01,  1.76397055e-01, -1.66550882e-01,  2.46511813e-01,\n",
       "        1.45911423e-01, -5.29511749e-02, -1.65168792e-01, -9.36177358e-02,\n",
       "        8.29815231e-02, -1.22522419e-01,  9.39856408e-02, -1.82332738e-02,\n",
       "        3.49795472e-03,  1.35055220e-01,  4.53161353e-02,  5.05616989e-02,\n",
       "        1.28478344e-01, -1.42233027e-01,  2.29699543e-01, -7.03142958e-02,\n",
       "       -1.41772204e-02,  7.43547932e-02, -6.21900789e-02, -2.15214721e-01,\n",
       "        1.12822189e-01,  2.82692110e-02,  7.22294581e-02, -2.46288732e-01,\n",
       "       -9.33420448e-02,  4.12314516e-02, -4.15592328e-02,  1.51108450e-01,\n",
       "       -1.09989050e-01, -7.68296860e-04, -1.39882955e-02,  1.10081495e-01,\n",
       "        1.49841818e-01,  6.28209294e-02,  4.06310757e-02,  6.31096333e-03,\n",
       "       -4.58438297e-02,  6.79288496e-02, -8.79935508e-02,  2.23021998e-02,\n",
       "       -8.17877476e-03,  2.38650088e-01,  5.77779296e-02, -1.45243521e-01,\n",
       "       -5.56562260e-02, -1.46472860e-01,  3.35321020e-04, -4.49422813e-02,\n",
       "       -2.70960286e-01,  2.02010733e-02, -4.51985581e-02, -1.22019193e-01,\n",
       "        1.79747295e-01, -7.89574309e-02,  2.30784223e-02,  9.82151728e-02,\n",
       "        7.39500740e-02,  2.17746952e-03,  6.75254575e-02,  1.22058265e-01,\n",
       "        6.22806295e-02, -7.50671673e-04, -9.07730456e-02, -5.50397325e-02,\n",
       "        9.38634943e-02,  1.11897928e-01, -1.81837923e-02, -2.03579658e-01,\n",
       "       -7.61468631e-03,  1.30511778e-01,  9.29597237e-02, -1.36285577e-01,\n",
       "        4.52928480e-02,  7.85080936e-02,  9.32922026e-02, -8.75117798e-02,\n",
       "       -2.25856237e-01, -1.60476943e-01, -8.98940703e-02,  1.02547299e-01,\n",
       "       -1.63563818e-01, -2.37769836e-02, -8.79499091e-02, -1.04220843e-01,\n",
       "       -9.39769602e-02,  2.28729622e-01, -3.48292790e-02, -1.63063835e-01,\n",
       "       -1.27341455e-01,  8.55258605e-02, -1.10805177e-01, -5.00291089e-02,\n",
       "        1.79392187e-01,  5.32284069e-02, -5.54503611e-02,  1.08924086e-01,\n",
       "        2.78479992e-02,  2.20005978e-02, -7.12712561e-02, -1.06573200e-01,\n",
       "        5.20585996e-03,  5.46940554e-02, -3.71682546e-02, -7.89493181e-02,\n",
       "        1.92441223e-01, -2.37612898e-01,  2.73178266e-02, -1.41020525e-02,\n",
       "        9.74861696e-02,  1.12748540e-01,  1.18623096e-01,  8.80492803e-02,\n",
       "       -5.11356053e-02, -1.37842482e-02, -7.47618817e-02,  5.53634101e-02,\n",
       "        2.57029512e-01, -2.42678981e-02,  1.40451116e-01,  6.27794859e-02,\n",
       "        1.21872207e-01, -2.77753350e-02, -1.29572161e-01,  8.46962821e-02,\n",
       "        4.60059696e-02, -1.87287084e-02, -1.39222033e-01, -3.91367811e-02,\n",
       "       -1.56316254e-02, -1.96563808e-02, -5.95868171e-02,  1.33291132e-01,\n",
       "        9.84567367e-02, -6.24610085e-03, -1.52712070e-01,  6.48821880e-02,\n",
       "       -1.66173136e-02,  4.30650056e-02,  5.68964929e-02,  6.54817341e-02,\n",
       "       -1.03059749e-01, -1.89518575e-02, -1.08827521e-01,  1.22952970e-01,\n",
       "        1.34811397e-02,  1.07714346e-01,  1.59929853e-01, -3.68563458e-02,\n",
       "        1.44404558e-01,  1.22177426e-01, -1.12332891e-01,  3.41513206e-02,\n",
       "        1.11397736e-01, -1.93916679e-01, -7.01358715e-02,  9.82260992e-02,\n",
       "        1.46559364e-01, -1.18503799e-01,  1.65002985e-01, -8.97163791e-02,\n",
       "       -3.97458880e-02,  4.22429271e-02, -8.65259445e-02,  1.38743801e-02,\n",
       "        1.10284367e-01, -5.58809410e-02, -1.35833008e-02, -7.53721579e-02,\n",
       "        8.25359500e-02,  2.13467840e-01,  6.19081715e-02,  1.34178918e-01,\n",
       "        5.92640975e-02,  1.06794151e-01,  1.88742909e-02,  9.66552099e-03,\n",
       "        5.12956667e-02,  1.01661583e-01,  5.31533263e-02, -2.03855986e-01,\n",
       "       -8.21690426e-02,  6.60067749e-03, -5.98538329e-02, -7.81361259e-02,\n",
       "        9.19620931e-02,  9.47199862e-02, -3.84578543e-03, -5.03561446e-03,\n",
       "       -2.06322197e-01,  7.39138597e-02,  6.15988262e-02,  1.77088065e-03,\n",
       "       -3.76527396e-02,  1.97648694e-01,  9.70326652e-02, -1.40045146e-02,\n",
       "       -7.47181518e-02, -1.28599423e-01,  1.24030609e-01, -4.14099158e-02,\n",
       "        2.36128950e-01,  6.35416508e-02,  9.88899321e-02, -1.72045573e-01,\n",
       "        4.72516130e-02, -3.66966850e-02,  2.94442938e-02, -3.06074236e-02,\n",
       "        4.08611501e-02,  9.38343978e-02, -1.99504647e-02, -8.08074540e-02,\n",
       "       -2.58148517e-02,  8.88367318e-03,  1.58364427e-02,  1.77686289e-01,\n",
       "        4.93699245e-02,  8.24576814e-02,  1.43827885e-01, -8.82585964e-02,\n",
       "       -5.61334613e-02, -6.35196251e-03, -8.09164280e-02,  9.92529745e-02,\n",
       "       -1.55076999e-01,  1.79451661e-02,  1.45526959e-01,  7.29810218e-02,\n",
       "       -1.44936202e-01,  5.86022491e-02, -2.54922732e-01, -2.52639347e-02,\n",
       "       -5.47500550e-02, -2.16324777e-02, -2.60631316e-02,  1.09545821e-02,\n",
       "        1.44824707e-01,  1.82925116e-02, -2.31069889e-02, -1.31678102e-01,\n",
       "       -6.27615299e-02,  1.40814073e-01, -8.02927872e-03, -1.97258046e-01,\n",
       "        1.36123823e-01, -4.81029301e-02,  1.18039782e-02, -1.45933136e-02,\n",
       "       -1.73191866e-02, -2.41498191e-02, -3.37842793e-02,  5.01531866e-02,\n",
       "        6.10086296e-02, -2.10317670e-02, -3.16291805e-02,  1.15439069e-01,\n",
       "       -6.09120953e-02,  1.36346575e-01, -5.54469627e-02,  9.50009293e-02,\n",
       "        1.87253849e-01,  4.93247884e-02, -1.06821965e-01, -1.12963632e-01,\n",
       "        4.53093891e-02, -3.44664328e-02, -1.47945768e-01,  9.40490936e-03,\n",
       "        8.25198006e-02,  8.23465841e-02,  9.31486888e-02,  6.49319823e-02,\n",
       "       -4.77072081e-03, -3.81455448e-03, -7.87972630e-02, -1.01062582e-01,\n",
       "       -9.56192672e-02,  1.53724657e-01, -2.31550134e-01,  8.89042803e-02,\n",
       "       -1.07528857e-03, -1.52153342e-01,  1.26883989e-01,  5.24692143e-02,\n",
       "        7.59408566e-03, -2.53440896e-01, -1.17860336e-01, -1.00751571e-01,\n",
       "        1.07902900e-01,  1.69118381e-01, -6.01856249e-02, -2.11554448e-02,\n",
       "        1.74909186e-01,  6.94148726e-02,  5.02721743e-02, -1.35224094e-02,\n",
       "        3.63015323e-02,  9.86541020e-03, -1.51525359e-02, -2.38714589e-02,\n",
       "       -7.56413849e-02,  1.14853910e-01,  4.69940604e-02, -7.73617942e-02,\n",
       "       -6.57990621e-02, -4.52526322e-02, -1.37303674e-01, -4.80660805e-02,\n",
       "        5.21253658e-02,  8.06200864e-02, -1.19213071e-01, -3.48551185e-02,\n",
       "       -1.39546450e-01, -3.74996783e-02,  7.99559889e-02,  1.53641827e-01,\n",
       "        7.21542627e-02, -3.43228699e-04, -1.96085581e-01,  1.56061942e-01,\n",
       "        3.11264414e-02, -1.55369092e-01,  3.04862612e-02,  3.34420586e-02,\n",
       "        2.92036805e-01, -2.23342769e-02, -4.22161409e-02, -5.26068865e-02,\n",
       "        8.68333425e-02,  1.23575385e-01, -9.58861289e-02, -3.13954840e-02,\n",
       "       -2.67685506e-02,  2.12192351e-01, -1.02197488e-01, -3.50737256e-03,\n",
       "        1.38396277e-01, -6.75410188e-02, -6.22337113e-02,  1.18453320e-01,\n",
       "        2.27884176e-02, -4.33574762e-03, -8.47631997e-02,  5.67025880e-03,\n",
       "       -6.13987875e-03,  1.75122080e-01, -2.24605214e-02,  9.40207944e-02,\n",
       "       -1.80602913e-01,  6.87575178e-02, -9.78248055e-04,  1.10394346e-01,\n",
       "       -6.11894638e-02,  5.68561988e-02,  3.81433609e-02, -6.07203945e-02,\n",
       "       -4.21486677e-02, -1.11194959e-01, -5.03780953e-02,  1.21901436e-01,\n",
       "        1.44331844e-01, -7.21511812e-02,  4.61975853e-04,  6.45821404e-02,\n",
       "        4.90485934e-02,  1.40626986e-01, -2.82458128e-01, -1.63775637e-01,\n",
       "       -6.90812226e-02, -8.70173214e-02, -3.28981721e-02, -5.02557967e-02,\n",
       "       -3.96019886e-02,  2.93371522e-01, -1.84028073e-01,  1.81658232e-01,\n",
       "       -1.46847140e-03, -7.21275026e-02, -1.30249539e-01,  1.18783068e-01,\n",
       "        9.87634528e-02, -7.76296638e-02,  3.31544783e-02, -8.77675488e-02,\n",
       "        5.99067840e-02, -1.46505190e-01, -6.14082720e-02,  9.58594502e-02,\n",
       "       -4.86113511e-02, -9.98934623e-02, -1.15721751e-02,  9.10757707e-02,\n",
       "       -3.45158956e-02,  1.95834520e-02, -4.21816048e-02,  1.90215274e-01,\n",
       "       -5.60129535e-02, -2.54342151e-03, -8.87645468e-02, -5.09726592e-02,\n",
       "       -1.61088540e-01,  8.70845622e-02,  1.12036123e-01, -3.98703717e-02,\n",
       "        6.19982090e-03,  1.40259820e-01, -5.07918663e-02,  3.65427620e-02,\n",
       "       -6.92759752e-02,  8.59872718e-03,  1.27610389e-01, -1.02740329e-01,\n",
       "        7.57563008e-03,  2.32226303e-02,  1.10201816e-02, -6.42523922e-02,\n",
       "       -2.62789409e-03,  8.00664335e-02, -1.00423297e-01,  2.12271171e-01,\n",
       "        8.81412527e-02,  7.78738783e-02, -1.49566956e-02, -2.48752959e-02,\n",
       "        6.60607468e-02, -1.14927436e-01,  7.03458682e-02,  1.71071026e-01,\n",
       "        5.35664160e-02, -1.11624707e-01,  1.70628439e-01, -3.63245305e-03,\n",
       "       -4.63781159e-02, -1.01577686e-01,  8.02455407e-02, -7.67563622e-02,\n",
       "       -2.11364947e-02,  5.69826601e-02, -1.60367696e-02,  1.05990264e-01,\n",
       "        1.66799659e-01,  8.74444026e-02, -6.45056724e-02, -8.08859935e-02,\n",
       "       -1.74375607e-01,  3.28893598e-02, -7.42128065e-02,  1.03329619e-01,\n",
       "        1.36679911e-01,  7.37495320e-02,  2.57398831e-02,  9.94894100e-02,\n",
       "       -1.76763901e-01,  3.37615355e-03, -1.04377469e-02, -7.80160330e-02,\n",
       "        1.26474087e-01,  1.11729119e-01,  7.15023360e-02,  1.21684858e-01,\n",
       "        1.26521444e-01, -1.08852104e-01,  1.45378732e-02, -5.08920314e-02,\n",
       "        9.11718707e-02, -4.35649301e-02,  5.10218458e-02,  8.27366015e-02,\n",
       "        2.77496197e-02,  8.26138132e-02, -8.93114039e-02,  2.12945410e-01,\n",
       "        7.99397769e-02,  4.08501194e-02,  8.55202751e-03,  2.13248471e-02,\n",
       "       -1.15469371e-01, -3.16694216e-03, -1.20258030e-02, -1.87200430e-01,\n",
       "        9.52503097e-02, -1.14203953e-01,  9.81039017e-02,  3.58806129e-02,\n",
       "        1.19994284e-01,  2.84336581e-02,  3.11638377e-02, -7.38406270e-02,\n",
       "       -2.69656679e-02, -8.16753620e-02, -1.53217388e-01, -2.86338424e-02,\n",
       "       -2.35760187e-02,  1.55905262e-01,  2.19425252e-02,  6.53422204e-02,\n",
       "       -7.66862331e-02, -9.55957346e-02, -4.51705635e-02,  3.19028104e-02,\n",
       "        1.49713547e-01, -8.59750307e-02, -8.57713875e-02, -5.68362582e-02,\n",
       "       -1.05605113e-01,  8.21125897e-03, -1.41757203e-01, -7.15746910e-02,\n",
       "        1.40516259e-02, -5.00180677e-02,  2.02612787e-02,  1.12040350e-01,\n",
       "       -2.04593406e-01,  2.40357344e-01, -1.31572503e-01, -1.78942591e-01,\n",
       "       -3.90721480e-02, -1.31077232e-01, -3.91111047e-02, -3.59557142e-02,\n",
       "       -1.78266709e-01,  3.76328345e-02, -1.86695762e-02,  4.35177959e-02])"
      ]
     },
     "execution_count": 31,
     "metadata": {},
     "output_type": "execute_result"
    }
   ],
   "source": [
    "np.random.normal(0, 0.1, 1000)"
   ]
  },
  {
   "cell_type": "code",
   "execution_count": 32,
   "id": "ea46eb14",
   "metadata": {},
   "outputs": [
    {
     "data": {
      "text/plain": [
       "(array([ 11.,  32., 129., 205., 282., 217.,  91.,  26.,   4.,   3.]),\n",
       " array([-0.3073153 , -0.23776606, -0.16821682, -0.09866758, -0.02911835,\n",
       "         0.04043089,  0.10998013,  0.17952937,  0.2490786 ,  0.31862784,\n",
       "         0.38817708]),\n",
       " <BarContainer object of 10 artists>)"
      ]
     },
     "execution_count": 32,
     "metadata": {},
     "output_type": "execute_result"
    },
    {
     "data": {
      "image/png": "[encoded data removed]",
      "text/plain": [
       "<Figure size 432x288 with 1 Axes>"
      ]
     },
     "metadata": {
      "needs_background": "light"
     },
     "output_type": "display_data"
    }
   ],
   "source": [
    "x = np.random.normal(0, 0.1, 1000)\n",
    "plt.hist(x)"
   ]
  },
  {
   "cell_type": "code",
   "execution_count": 33,
   "id": "d2472c48",
   "metadata": {},
   "outputs": [
    {
     "data": {
      "text/plain": [
       "(array([  1.,  14.,  46., 139., 234., 231., 189., 104.,  32.,  10.]),\n",
       " array([ 9.65154344,  9.71697256,  9.78240167,  9.84783079,  9.9132599 ,\n",
       "         9.97868902, 10.04411813, 10.10954724, 10.17497636, 10.24040547,\n",
       "        10.30583459]),\n",
       " <BarContainer object of 10 artists>)"
      ]
     },
     "execution_count": 33,
     "metadata": {},
     "output_type": "execute_result"
    },
    {
     "data": {
      "image/png": "[encoded data removed]",
      "text/plain": [
       "<Figure size 432x288 with 1 Axes>"
      ]
     },
     "metadata": {
      "needs_background": "light"
     },
     "output_type": "display_data"
    }
   ],
   "source": [
    "x = np.random.normal(10, 0.1, 1000)\n",
    "plt.hist(x)"
   ]
  },
  {
   "cell_type": "code",
   "execution_count": 35,
   "id": "630fb2ea",
   "metadata": {},
   "outputs": [
    {
     "data": {
      "text/plain": [
       "(array([  15.,  107.,  524., 1525., 2751., 2634., 1679.,  609.,  135.,\n",
       "          21.]),\n",
       " array([-358.05564524, -285.07989898, -212.10415272, -139.12840647,\n",
       "         -66.15266021,    6.82308605,   79.79883231,  152.77457857,\n",
       "         225.75032483,  298.72607109,  371.70181735]),\n",
       " <BarContainer object of 10 artists>)"
      ]
     },
     "execution_count": 35,
     "metadata": {},
     "output_type": "execute_result"
    },
    {
     "data": {
      "image/png": "[encoded data removed]",
      "text/plain": [
       "<Figure size 432x288 with 1 Axes>"
      ]
     },
     "metadata": {
      "needs_background": "light"
     },
     "output_type": "display_data"
    }
   ],
   "source": [
    "x = np.random.normal(10, 100, 10000)\n",
    "plt.hist(x)"
   ]
  },
  {
   "cell_type": "code",
   "execution_count": null,
   "id": "46f0162e",
   "metadata": {},
   "outputs": [],
   "source": []
  }
 ],
 "metadata": {
  "kernelspec": {
   "display_name": "Python 3",
   "language": "python",
   "name": "python3"
  },
  "language_info": {
   "codemirror_mode": {
    "name": "ipython",
    "version": 3
   },
   "file_extension": ".py",
   "mimetype": "text/x-python",
   "name": "python",
   "nbconvert_exporter": "python",
   "pygments_lexer": "ipython3",
   "version": "3.8.8"
  }
 },
 "nbformat": 4,
 "nbformat_minor": 5
}
