{
 "cells": [
  {
   "cell_type": "markdown",
   "id": "21d89c45",
   "metadata": {},
   "source": [
    "# The numpy Random Package\n",
    "\n",
    "[Official Documentation](https://numpy.org/doc/stable/reference/random/index.html)\n",
    "\n",
    "***"
   ]
  },
  {
   "cell_type": "code",
   "execution_count": null,
   "id": "e30ccf91",
   "metadata": {},
   "outputs": [],
   "source": [
    "import numpy as np\n",
    "\n",
    "import mathplotlib.plypot as plt"
   ]
  },
  {
   "cell_type": "markdown",
   "id": "66d294e4",
   "metadata": {},
   "source": [
    "Seeding is important in a random number generator [1]."
   ]
  },
  {
   "cell_type": "code",
   "execution_count": null,
   "id": "1c139c9e",
   "metadata": {},
   "outputs": [],
   "source": []
  },
  {
   "cell_type": "code",
   "execution_count": null,
   "id": "13488ab2",
   "metadata": {},
   "outputs": [],
   "source": [
    "<br>\n",
    "\n",
    "# numpy.random.normal\n",
    "\n",
    "https://numpy.org/doc/stable/reference/random/generated/numpy.random.normal.html"
   ]
  },
  {
   "cell_type": "code",
   "execution_count": null,
   "id": "ba20cf3d",
   "metadata": {},
   "outputs": [],
   "source": [
    "mu, sigma = 0, 0.1 # mean and standard deviation\n",
    "\n",
    "s = np.random.normal(mu, sigma, 1000)"
   ]
  },
  {
   "cell_type": "code",
   "execution_count": null,
   "id": "8f32274d",
   "metadata": {},
   "outputs": [],
   "source": []
  },
  {
   "cell_type": "code",
   "execution_count": null,
   "id": "e77e0406",
   "metadata": {},
   "outputs": [],
   "source": []
  },
  {
   "cell_type": "code",
   "execution_count": null,
   "id": "20ba06b4",
   "metadata": {},
   "outputs": [],
   "source": []
  },
  {
   "cell_type": "markdown",
   "id": "ee3ba0c5",
   "metadata": {},
   "source": [
    "# References\n",
    "\n",
    "1. https://realpython.com/python-random/\n",
    "2. https://www.datacamp.com/community/tutorials/numpy-random \n"
   ]
  },
  {
   "cell_type": "markdown",
   "id": "73609ca3",
   "metadata": {},
   "source": [
    "***\n",
    "\n",
    "# End"
   ]
  },
  {
   "cell_type": "code",
   "execution_count": null,
   "id": "0fa21985",
   "metadata": {},
   "outputs": [],
   "source": []
  }
 ],
 "metadata": {
  "kernelspec": {
   "display_name": "Python 3",
   "language": "python",
   "name": "python3"
  },
  "language_info": {
   "codemirror_mode": {
    "name": "ipython",
    "version": 3
   },
   "file_extension": ".py",
   "mimetype": "text/x-python",
   "name": "python",
   "nbconvert_exporter": "python",
   "pygments_lexer": "ipython3",
   "version": "3.8.8"
  }
 },
 "nbformat": 4,
 "nbformat_minor": 5
}
